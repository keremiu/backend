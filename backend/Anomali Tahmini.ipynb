{
 "cells": [
  {
   "cell_type": "code",
   "execution_count": 5,
   "id": "5faec771",
   "metadata": {},
   "outputs": [],
   "source": [
    "\n",
    "import pandas as pd\n",
    "import json\n",
    "\n",
    "from myDB import myDB\n",
    "\n",
    "\n",
    "misli_data = myDB.get_data_from_mongo('BahisSiteleriCur2', 'misli')\n",
    "nesine_data = myDB.get_data_from_mongo('BahisSiteleriCur2', 'nesine')\n",
    "bet10_data = myDB.get_data_from_mongo('BahisSiteleriCur2', 'bet10')\n",
    "sport888_data = myDB.get_data_from_mongo('BahisSiteleriCur2', '888sport')\n",
    "betway_data = myDB.get_data_from_mongo('BahisSiteleriCur2', 'betway')\n",
    "unibet_data = myDB.get_data_from_mongo('BahisSiteleriCur2', 'unibet')\n",
    "marathon_data = myDB.get_data_from_mongo('BahisSiteleriCur2', 'marathon')\n",
    "tuttur_data = myDB.get_data_from_mongo('BahisSiteleriCur2', 'tuttur')\n"
   ]
  },
  {
   "cell_type": "code",
   "execution_count": 6,
   "id": "295cf6bc",
   "metadata": {},
   "outputs": [
    {
     "data": {
      "text/plain": [
       "[{'_id': ObjectId('6480b463a8010ba2dacc2f4f'),\n",
       "  'Teams': {'0': 'Ankaragücü-Adana Demirspor',\n",
       "   '1': 'Beşiktaş-Konyaspor',\n",
       "   '2': 'Giresunspor-Antalyaspor',\n",
       "   '3': 'İstanbulspor-Ümraniyespor'},\n",
       "  '1x2': {'0': ['2.18', '3.71', '2.39'],\n",
       "   '1': ['1.17', '5.14', '6.79'],\n",
       "   '2': ['1.86', '3.46', '2.93'],\n",
       "   '3': ['1.22', '4.78', '6.90']},\n",
       "  'teams_normalized': {'0': 'ankaragucu-adanademirspor',\n",
       "   '1': 'besiktas-konyaspor',\n",
       "   '2': 'giresunspor-antalyaspor',\n",
       "   '3': 'i̇stanbulspor-umraniyespor'}}]"
      ]
     },
     "execution_count": 6,
     "metadata": {},
     "output_type": "execute_result"
    }
   ],
   "source": [
    "misli_data"
   ]
  },
  {
   "cell_type": "code",
   "execution_count": 7,
   "id": "f45adf65",
   "metadata": {},
   "outputs": [
    {
     "data": {
      "text/plain": [
       "[{'_id': ObjectId('6480b463a8010ba2dacc2f51'),\n",
       "  'Teams': {'0': 'Ankaragücü - Adana Demir',\n",
       "   '1': 'Beşiktaş - Konyaspor',\n",
       "   '2': 'Giresunspor - Antalyaspor',\n",
       "   '3': 'İstanbulspor - Ümraniyespor'},\n",
       "  '1x2': {'0': ['2.08', '3.54', '2.28'],\n",
       "   '1': ['1.17', '5.14', '6.79'],\n",
       "   '2': ['1.79', '3.35', '2.91'],\n",
       "   '3': ['1.19', '4.65', '6.70']},\n",
       "  'teams_normalized': {'0': 'ankaragucu-adanademir',\n",
       "   '1': 'besiktas-konyaspor',\n",
       "   '2': 'giresunspor-antalyaspor',\n",
       "   '3': 'i̇stanbulspor-umraniyespor'}}]"
      ]
     },
     "execution_count": 7,
     "metadata": {},
     "output_type": "execute_result"
    }
   ],
   "source": [
    "nesine_data\n"
   ]
  },
  {
   "cell_type": "code",
   "execution_count": 8,
   "id": "b0e3beab",
   "metadata": {},
   "outputs": [
    {
     "data": {
      "text/plain": [
       "[{'_id': ObjectId('6480b462a8010ba2dacc2f49'),\n",
       "  'Teams': {'0': 'Ankaragucu-Adana Demirspor',\n",
       "   '1': 'Besiktas-Konyaspor',\n",
       "   '2': 'Giresunspor-Antalyaspor',\n",
       "   '3': 'Istanbulspor-Umraniyespor'},\n",
       "  '1x2': {'0': ['2.35', '4.10', '2.50'],\n",
       "   '1': ['1.30', '6.00', '8.25'],\n",
       "   '2': ['2.05', '3.70', '3.20'],\n",
       "   '3': ['1.35', '5.25', '7.50']},\n",
       "  'teams_normalized': {'0': 'ankaragucu-adanademirspor',\n",
       "   '1': 'besiktas-konyaspor',\n",
       "   '2': 'giresunspor-antalyaspor',\n",
       "   '3': 'istanbulspor-umraniyespor'}}]"
      ]
     },
     "execution_count": 8,
     "metadata": {},
     "output_type": "execute_result"
    }
   ],
   "source": [
    "bet10_data"
   ]
  },
  {
   "cell_type": "code",
   "execution_count": 9,
   "id": "e6e298d1",
   "metadata": {},
   "outputs": [
    {
     "data": {
      "text/plain": [
       "[{'_id': ObjectId('6480b462a8010ba2dacc2f47'),\n",
       "  'Teams': {'0': 'MKE Ankaragucu-Adana Demirspor',\n",
       "   '1': 'Besiktas JK-Konyaspor',\n",
       "   '2': 'Giresunspor-Antalyaspor',\n",
       "   '3': 'Istanbulspor-Umraniyespor'},\n",
       "  '1x2': {'0': [1.375, 3, 1.4],\n",
       "   '1': [0.25, 5, 7.5],\n",
       "   '2': [1, 2.75, 2.2],\n",
       "   '3': [0.3, 4.5, 7]},\n",
       "  'teams_normalized': {'0': 'ankaragucu-adanademirspor',\n",
       "   '1': 'besiktas-konyaspor',\n",
       "   '2': 'giresunspor-antalyaspor',\n",
       "   '3': 'istanbulspor-umraniyespor'}}]"
      ]
     },
     "execution_count": 9,
     "metadata": {},
     "output_type": "execute_result"
    }
   ],
   "source": [
    "sport888_data"
   ]
  },
  {
   "cell_type": "code",
   "execution_count": 10,
   "id": "a962a591",
   "metadata": {},
   "outputs": [
    {
     "data": {
      "text/plain": [
       "[{'_id': ObjectId('6480b463a8010ba2dacc2f4b'),\n",
       "  'Teams': {'0': 'Ankaragucu-Adana Demirspor',\n",
       "   '1': 'Besiktas-Konyaspor',\n",
       "   '2': 'Giresunspor-Antalyaspor',\n",
       "   '3': 'Istanbulspor-Umraniyespor'},\n",
       "  '1x2': {'0': ['2.37', '4.00', '2.40'],\n",
       "   '1': ['1.28', '5.75', '7.50'],\n",
       "   '2': ['2.10', '3.60', '3.00'],\n",
       "   '3': ['1.33', '5.00', '7.00']},\n",
       "  'teams_normalized': {'0': 'ankaragucu-adanademirspor',\n",
       "   '1': 'besiktas-konyaspor',\n",
       "   '2': 'giresunspor-antalyaspor',\n",
       "   '3': 'istanbulspor-umraniyespor'}}]"
      ]
     },
     "execution_count": 10,
     "metadata": {},
     "output_type": "execute_result"
    }
   ],
   "source": [
    "betway_data"
   ]
  },
  {
   "cell_type": "code",
   "execution_count": 11,
   "id": "b200f0ae",
   "metadata": {},
   "outputs": [
    {
     "data": {
      "text/plain": [
       "[{'_id': ObjectId('6480b463a8010ba2dacc2f55'),\n",
       "  'Teams': {'0': 'Ankaragücü-Adana Demirspor',\n",
       "   '1': 'Beşiktaş A.Ş.-Konyaspor',\n",
       "   '2': 'Giresunspor-Antalyaspor A.Ş.',\n",
       "   '3': 'Istanbulspor-Ümraniyespor'},\n",
       "  '1x2': {'0': ['2.30', '4.30', '2.45'],\n",
       "   '1': ['1.29', '5.80', '8.00'],\n",
       "   '2': ['1.98', '3.70', '3.30'],\n",
       "   '3': ['1.35', '5.00', '7.50']},\n",
       "  'teams_normalized': {'0': 'ankaragucu-adanademirspor',\n",
       "   '1': 'besiktas-konyaspor',\n",
       "   '2': 'giresunspor-antalyaspor',\n",
       "   '3': 'istanbulspor-umraniyespor'}}]"
      ]
     },
     "execution_count": 11,
     "metadata": {},
     "output_type": "execute_result"
    }
   ],
   "source": [
    "unibet_data"
   ]
  },
  {
   "cell_type": "code",
   "execution_count": 12,
   "id": "4856ed00",
   "metadata": {},
   "outputs": [
    {
     "data": {
      "text/plain": [
       "[{'_id': ObjectId('6480b463a8010ba2dacc2f4d'),\n",
       "  'Teams': {'0': 'Ankaragucu-Adana Demirspor',\n",
       "   '1': 'Besiktas-Konyaspor',\n",
       "   '2': 'Giresunspor-Antalyaspor',\n",
       "   '3': 'Istanbulspor-Umraniyespor'},\n",
       "  '1x2': {'0': ['2.45', '4.15', '2.45'],\n",
       "   '1': ['1.30', '5.95', '8.30'],\n",
       "   '2': ['2.09', '3.78', '3.18'],\n",
       "   '3': ['1.34', '5.35', '8.00']},\n",
       "  'teams_normalized': {'0': 'ankaragucu-adanademirspor',\n",
       "   '1': 'besiktas-konyaspor',\n",
       "   '2': 'giresunspor-antalyaspor',\n",
       "   '3': 'istanbulspor-umraniyespor'}}]"
      ]
     },
     "execution_count": 12,
     "metadata": {},
     "output_type": "execute_result"
    }
   ],
   "source": [
    "marathon_data"
   ]
  },
  {
   "cell_type": "code",
   "execution_count": 13,
   "id": "53fcb331",
   "metadata": {},
   "outputs": [
    {
     "data": {
      "text/plain": [
       "[{'_id': ObjectId('6480b463a8010ba2dacc2f53'),\n",
       "  'Teams': {'0': 'Ankaragücü-Adana Demirspor',\n",
       "   '1': 'Beşiktaş-Konyaspor',\n",
       "   '2': 'Giresunspor-Antalyaspor',\n",
       "   '3': 'İstanbulspor-Ümraniyespor'},\n",
       "  '1x2': {'0': ['2.08', '3.54', '2.28'],\n",
       "   '1': ['1.17', '5.14', '6.79'],\n",
       "   '2': ['1.79', '3.35', '2.91'],\n",
       "   '3': ['1.19', '4.65', '6.70']},\n",
       "  'teams_normalized': {'0': 'ankaragucu-adanademirspor',\n",
       "   '1': 'besiktas-konyaspor',\n",
       "   '2': 'giresunspor-antalyaspor',\n",
       "   '3': 'i̇stanbulspor-umraniyespor'}}]"
      ]
     },
     "execution_count": 13,
     "metadata": {},
     "output_type": "execute_result"
    }
   ],
   "source": [
    "tuttur_data"
   ]
  },
  {
   "cell_type": "code",
   "execution_count": 14,
   "id": "66277003",
   "metadata": {},
   "outputs": [],
   "source": [
    "df_nesine = pd.DataFrame(nesine_data)\n",
    "df_bet10 = pd.DataFrame(bet10_data)\n",
    "df_sport888 = pd.DataFrame(sport888_data)\n",
    "df_misli = pd.DataFrame(misli_data)\n",
    "df_betway = pd.DataFrame(betway_data)\n",
    "df_unibet = pd.DataFrame(unibet_data)\n",
    "df_marathon = pd.DataFrame(marathon_data)\n",
    "df_tuttur = pd.DataFrame(tuttur_data)\n"
   ]
  },
  {
   "cell_type": "code",
   "execution_count": 18,
   "id": "805bd86b",
   "metadata": {},
   "outputs": [],
   "source": [
    "# Convert 'Teams' and '1x2' columns from dict to list and create new dataframes\n",
    "df_misli_teams = pd.DataFrame([(k,v) for d in df_misli['Teams'] for k,v in d.items()], columns=['index','Teams'])\n",
    "df_misli_1x2 = pd.DataFrame([(k,v) for d in df_misli['1x2'] for k,v in d.items()], columns=['index','1x2'])\n",
    "\n",
    "df_marathon_teams = pd.DataFrame([(k,v) for d in df_marathon['Teams'] for k,v in d.items()], columns=['index','Teams'])\n",
    "df_marathon_1x2 = pd.DataFrame([(k,v) for d in df_marathon['1x2'] for k,v in d.items()], columns=['index','1x2'])\n",
    "\n",
    "df_bet10_teams = pd.DataFrame([(k,v) for d in df_bet10['Teams'] for k,v in d.items()], columns=['index','Teams'])\n",
    "df_bet10_1x2 = pd.DataFrame([(k,v) for d in df_bet10['1x2'] for k,v in d.items()], columns=['index','1x2'])\n",
    "\n",
    "df_nesine_teams = pd.DataFrame([(k,v) for d in df_nesine['Teams'] for k,v in d.items()], columns=['index','Teams'])\n",
    "df_nesine_1x2 = pd.DataFrame([(k,v) for d in df_nesine['1x2'] for k,v in d.items()], columns=['index','1x2'])\n",
    "\n",
    "df_tuttur_teams = pd.DataFrame([(k,v) for d in df_tuttur['Teams'] for k,v in d.items()], columns=['index','Teams'])\n",
    "df_tuttur_1x2 = pd.DataFrame([(k,v) for d in df_tuttur['1x2'] for k,v in d.items()], columns=['index','1x2'])\n",
    "\n",
    "df_sport888_teams = pd.DataFrame([(k,v) for d in df_sport888['Teams'] for k,v in d.items()], columns=['index','Teams'])\n",
    "df_sport888_1x2 = pd.DataFrame([(k,v) for d in df_sport888['1x2'] for k,v in d.items()], columns=['index','1x2'])\n",
    "\n",
    "df_betway_teams = pd.DataFrame([(k,v) for d in df_betway['Teams'] for k,v in d.items()], columns=['index','Teams'])\n",
    "df_betway_1x2 = pd.DataFrame([(k,v) for d in df_betway['1x2'] for k,v in d.items()], columns=['index','1x2'])\n",
    "\n",
    "df_unibet_teams = pd.DataFrame([(k,v) for d in df_unibet['Teams'] for k,v in d.items()], columns=['index','Teams'])\n",
    "df_unibet_1x2 = pd.DataFrame([(k,v) for d in df_unibet['1x2'] for k,v in d.items()], columns=['index','1x2'])\n",
    "\n",
    "# Convert 'index' column to int for proper merging\n",
    "df_misli_teams['index'] = df_misli_teams['index'].astype(int)\n",
    "df_misli_1x2['index'] = df_marathon_1x2['index'].astype(int)\n",
    "\n",
    "df_marathon_teams['index'] = df_marathon_teams['index'].astype(int)\n",
    "df_marathon_1x2['index'] = df_bet10_1x2['index'].astype(int)\n",
    "\n",
    "df_bet10_teams['index'] = df_bet10_teams['index'].astype(int)\n",
    "df_bet10_1x2['index'] = df_misli_1x2['index'].astype(int)\n",
    "\n",
    "df_nesine_teams['index'] = df_nesine_teams['index'].astype(int)\n",
    "df_nesine_1x2['index'] = df_nesine_1x2['index'].astype(int)\n",
    "\n",
    "df_tuttur_teams['index'] = df_tuttur_teams['index'].astype(int)\n",
    "df_tuttur_1x2['index'] = df_tuttur_1x2['index'].astype(int)\n",
    "\n",
    "df_sport888_teams['index'] = df_sport888_teams['index'].astype(int)\n",
    "df_sport888_1x2['index'] = df_sport888_1x2['index'].astype(int)\n",
    "\n",
    "df_betway_teams['index'] = df_betway_teams['index'].astype(int)\n",
    "df_betway_1x2['index'] = df_betway_1x2['index'].astype(int)\n",
    "\n",
    "df_unibet_teams['index'] = df_unibet_teams['index'].astype(int)\n",
    "df_unibet_1x2['index'] = df_unibet_1x2['index'].astype(int)\n",
    "\n",
    "# Merge the two dataframes on 'index'\n",
    "df_misli = pd.merge(df_misli_teams, df_misli_1x2, on='index')\n",
    "df_marathon = pd.merge(df_marathon_teams, df_marathon_1x2, on='index')\n",
    "df_bet10 = pd.merge(df_bet10_teams, df_bet10_1x2, on='index')\n",
    "df_nesine = pd.merge(df_nesine_teams, df_nesine_1x2, on='index')\n",
    "df_tuttur = pd.merge(df_tuttur_teams, df_tuttur_1x2, on='index')\n",
    "df_sport888 = pd.merge(df_sport888_teams, df_sport888_1x2, on='index')\n",
    "df_betway = pd.merge(df_betway_teams, df_betway_1x2, on='index')\n",
    "df_unibet = pd.merge(df_unibet_teams, df_misli_1x2, on='index')\n",
    "\n",
    "\n",
    "df_marathon['teams_normalized'] = df_marathon['Teams'].str.lower().str.replace(' ', '')\n",
    "df_bet10['teams_normalized'] = df_bet10['Teams'].str.lower().str.replace(' ', '')\n",
    "df_misli['teams_normalized'] = df_misli['Teams'].str.lower().str.replace(' ', '')\n",
    "df_nesine['teams_normalized'] = df_nesine['Teams'].str.lower().str.replace(' ', '')\n",
    "df_tuttur['teams_normalized'] = df_tuttur['Teams'].str.lower().str.replace(' ', '')\n",
    "df_sport888['teams_normalized'] = df_sport888['Teams'].str.lower().str.replace(' ', '')\n",
    "df_betway['teams_normalized'] = df_betway['Teams'].str.lower().str.replace(' ', '')\n",
    "df_unibet['teams_normalized'] = df_unibet['Teams'].str.lower().str.replace(' ', '')\n"
   ]
  },
  {
   "cell_type": "code",
   "execution_count": 19,
   "id": "6d6cf458",
   "metadata": {},
   "outputs": [
    {
     "data": {
      "text/html": [
       "<div>\n",
       "<style scoped>\n",
       "    .dataframe tbody tr th:only-of-type {\n",
       "        vertical-align: middle;\n",
       "    }\n",
       "\n",
       "    .dataframe tbody tr th {\n",
       "        vertical-align: top;\n",
       "    }\n",
       "\n",
       "    .dataframe thead th {\n",
       "        text-align: right;\n",
       "    }\n",
       "</style>\n",
       "<table border=\"1\" class=\"dataframe\">\n",
       "  <thead>\n",
       "    <tr style=\"text-align: right;\">\n",
       "      <th></th>\n",
       "      <th>index</th>\n",
       "      <th>Teams</th>\n",
       "      <th>1x2</th>\n",
       "      <th>teams_normalized</th>\n",
       "    </tr>\n",
       "  </thead>\n",
       "  <tbody>\n",
       "    <tr>\n",
       "      <th>0</th>\n",
       "      <td>0</td>\n",
       "      <td>Ankaragücü - Adana Demir</td>\n",
       "      <td>[2.08, 3.54, 2.28]</td>\n",
       "      <td>ankaragücü-adanademir</td>\n",
       "    </tr>\n",
       "    <tr>\n",
       "      <th>1</th>\n",
       "      <td>1</td>\n",
       "      <td>Beşiktaş - Konyaspor</td>\n",
       "      <td>[1.17, 5.14, 6.79]</td>\n",
       "      <td>beşiktaş-konyaspor</td>\n",
       "    </tr>\n",
       "    <tr>\n",
       "      <th>2</th>\n",
       "      <td>2</td>\n",
       "      <td>Giresunspor - Antalyaspor</td>\n",
       "      <td>[1.79, 3.35, 2.91]</td>\n",
       "      <td>giresunspor-antalyaspor</td>\n",
       "    </tr>\n",
       "    <tr>\n",
       "      <th>3</th>\n",
       "      <td>3</td>\n",
       "      <td>İstanbulspor - Ümraniyespor</td>\n",
       "      <td>[1.19, 4.65, 6.70]</td>\n",
       "      <td>i̇stanbulspor-ümraniyespor</td>\n",
       "    </tr>\n",
       "  </tbody>\n",
       "</table>\n",
       "</div>"
      ],
      "text/plain": [
       "   index                        Teams                 1x2  \\\n",
       "0      0     Ankaragücü - Adana Demir  [2.08, 3.54, 2.28]   \n",
       "1      1         Beşiktaş - Konyaspor  [1.17, 5.14, 6.79]   \n",
       "2      2    Giresunspor - Antalyaspor  [1.79, 3.35, 2.91]   \n",
       "3      3  İstanbulspor - Ümraniyespor  [1.19, 4.65, 6.70]   \n",
       "\n",
       "             teams_normalized  \n",
       "0       ankaragücü-adanademir  \n",
       "1          beşiktaş-konyaspor  \n",
       "2     giresunspor-antalyaspor  \n",
       "3  i̇stanbulspor-ümraniyespor  "
      ]
     },
     "execution_count": 19,
     "metadata": {},
     "output_type": "execute_result"
    }
   ],
   "source": [
    "df_nesine"
   ]
  },
  {
   "cell_type": "code",
   "execution_count": 21,
   "id": "419e1e0a",
   "metadata": {},
   "outputs": [],
   "source": [
    "def normalize_team_name(name):\n",
    "    name = name.lower().strip()\n",
    "    name = name.replace(\"a.ş.\", \"\").strip()  \n",
    "    name = name.replace(\"sk\", \"\").strip()  \n",
    "    name = name.replace(\"fk\", \"\").strip() \n",
    "    name = name.replace(\"jk\", \"\").strip() \n",
    "    name = name.replace(\"mke\", \"\").strip() \n",
    "    name = name.replace(\"ç\", \"c\")\n",
    "    name = name.replace(\"ş\", \"s\")\n",
    "    name = name.replace(\"ğ\", \"g\")\n",
    "    name = name.replace(\"ü\", \"u\")\n",
    "    name = name.replace(\"ö\", \"o\")\n",
    "    name = name.replace(\"ı\", \"i\")\n",
    "    name = name.replace(\"fatih karagumruk\", \"fatihkaragumruk\").strip()\n",
    "    name = name.replace(\"f.karagümruk\", \"fatihkaragumruk\").strip()  \n",
    "    name = name.replace(\"fatihkaragumrukistanbul\", \"fatihkaragumruk\").strip()  \n",
    "    name = name.replace(\"adana demir\", \"adana demirspor\").strip()  \n",
    "    return name"
   ]
  },
  {
   "cell_type": "code",
   "execution_count": 22,
   "id": "1847b968",
   "metadata": {},
   "outputs": [],
   "source": [
    "df_misli['teams_normalized'] = df_misli['teams_normalized'].apply(normalize_team_name)\n",
    "df_nesine['teams_normalized'] = df_nesine['teams_normalized'].apply(normalize_team_name)\n",
    "df_sport888['teams_normalized'] = df_sport888['teams_normalized'].apply(normalize_team_name)\n",
    "df_betway['teams_normalized'] = df_betway['teams_normalized'].apply(normalize_team_name)\n",
    "df_unibet['teams_normalized'] = df_unibet['teams_normalized'].apply(normalize_team_name)\n",
    "df_bet10['teams_normalized'] = df_bet10['teams_normalized'].apply(normalize_team_name)\n",
    "df_marathon['teams_normalized'] = df_marathon['teams_normalized'].apply(normalize_team_name)\n",
    "df_tuttur['teams_normalized'] = df_tuttur['teams_normalized'].apply(normalize_team_name)"
   ]
  },
  {
   "cell_type": "code",
   "execution_count": 23,
   "id": "9cbf0b21",
   "metadata": {},
   "outputs": [],
   "source": [
    "df_nesine_sorted = df_nesine.sort_values('teams_normalized').reset_index(drop=True)\n",
    "df_bet10_sorted = df_bet10.sort_values('teams_normalized').reset_index(drop=True)\n",
    "df_sport888_sorted = df_sport888.sort_values('teams_normalized').reset_index(drop=True)\n",
    "df_misli_sorted = df_misli.sort_values('teams_normalized').reset_index(drop=True)\n",
    "df_betway_sorted = df_betway.sort_values('teams_normalized').reset_index(drop=True)\n",
    "df_unibet_sorted = df_unibet.sort_values('teams_normalized').reset_index(drop=True)\n",
    "df_marathon_sorted = df_marathon.sort_values('teams_normalized').reset_index(drop=True)\n",
    "df_tuttur_sorted = df_tuttur.sort_values('teams_normalized').reset_index(drop=True)\n"
   ]
  },
  {
   "cell_type": "code",
   "execution_count": 24,
   "id": "b0734531",
   "metadata": {},
   "outputs": [
    {
     "data": {
      "text/html": [
       "<div>\n",
       "<style scoped>\n",
       "    .dataframe tbody tr th:only-of-type {\n",
       "        vertical-align: middle;\n",
       "    }\n",
       "\n",
       "    .dataframe tbody tr th {\n",
       "        vertical-align: top;\n",
       "    }\n",
       "\n",
       "    .dataframe thead th {\n",
       "        text-align: right;\n",
       "    }\n",
       "</style>\n",
       "<table border=\"1\" class=\"dataframe\">\n",
       "  <thead>\n",
       "    <tr style=\"text-align: right;\">\n",
       "      <th></th>\n",
       "      <th>index</th>\n",
       "      <th>Teams</th>\n",
       "      <th>1x2</th>\n",
       "      <th>teams_normalized</th>\n",
       "    </tr>\n",
       "  </thead>\n",
       "  <tbody>\n",
       "    <tr>\n",
       "      <th>0</th>\n",
       "      <td>0</td>\n",
       "      <td>Ankaragücü-Adana Demirspor</td>\n",
       "      <td>[2.18, 3.71, 2.39]</td>\n",
       "      <td>ankaragucu-adanademirspor</td>\n",
       "    </tr>\n",
       "    <tr>\n",
       "      <th>1</th>\n",
       "      <td>1</td>\n",
       "      <td>Beşiktaş-Konyaspor</td>\n",
       "      <td>[1.17, 5.14, 6.79]</td>\n",
       "      <td>besiktas-konyaspor</td>\n",
       "    </tr>\n",
       "    <tr>\n",
       "      <th>2</th>\n",
       "      <td>2</td>\n",
       "      <td>Giresunspor-Antalyaspor</td>\n",
       "      <td>[1.86, 3.46, 2.93]</td>\n",
       "      <td>giresunspor-antalyaspor</td>\n",
       "    </tr>\n",
       "    <tr>\n",
       "      <th>3</th>\n",
       "      <td>3</td>\n",
       "      <td>İstanbulspor-Ümraniyespor</td>\n",
       "      <td>[1.22, 4.78, 6.90]</td>\n",
       "      <td>i̇stanbulspor-umraniyespor</td>\n",
       "    </tr>\n",
       "  </tbody>\n",
       "</table>\n",
       "</div>"
      ],
      "text/plain": [
       "   index                       Teams                 1x2  \\\n",
       "0      0  Ankaragücü-Adana Demirspor  [2.18, 3.71, 2.39]   \n",
       "1      1          Beşiktaş-Konyaspor  [1.17, 5.14, 6.79]   \n",
       "2      2     Giresunspor-Antalyaspor  [1.86, 3.46, 2.93]   \n",
       "3      3   İstanbulspor-Ümraniyespor  [1.22, 4.78, 6.90]   \n",
       "\n",
       "             teams_normalized  \n",
       "0   ankaragucu-adanademirspor  \n",
       "1          besiktas-konyaspor  \n",
       "2     giresunspor-antalyaspor  \n",
       "3  i̇stanbulspor-umraniyespor  "
      ]
     },
     "execution_count": 24,
     "metadata": {},
     "output_type": "execute_result"
    }
   ],
   "source": [
    "df_nesine_sorted"
   ]
  },
  {
   "cell_type": "code",
   "execution_count": 25,
   "id": "6f6b9bad",
   "metadata": {},
   "outputs": [
    {
     "data": {
      "text/html": [
       "<div>\n",
       "<style scoped>\n",
       "    .dataframe tbody tr th:only-of-type {\n",
       "        vertical-align: middle;\n",
       "    }\n",
       "\n",
       "    .dataframe tbody tr th {\n",
       "        vertical-align: top;\n",
       "    }\n",
       "\n",
       "    .dataframe thead th {\n",
       "        text-align: right;\n",
       "    }\n",
       "</style>\n",
       "<table border=\"1\" class=\"dataframe\">\n",
       "  <thead>\n",
       "    <tr style=\"text-align: right;\">\n",
       "      <th></th>\n",
       "      <th>index</th>\n",
       "      <th>Teams</th>\n",
       "      <th>1x2</th>\n",
       "      <th>teams_normalized</th>\n",
       "    </tr>\n",
       "  </thead>\n",
       "  <tbody>\n",
       "    <tr>\n",
       "      <th>0</th>\n",
       "      <td>0</td>\n",
       "      <td>Ankaragücü - Adana Demir</td>\n",
       "      <td>[2.08, 3.54, 2.28]</td>\n",
       "      <td>ankaragucu-adanademir</td>\n",
       "    </tr>\n",
       "    <tr>\n",
       "      <th>1</th>\n",
       "      <td>1</td>\n",
       "      <td>Beşiktaş - Konyaspor</td>\n",
       "      <td>[1.17, 5.14, 6.79]</td>\n",
       "      <td>besiktas-konyaspor</td>\n",
       "    </tr>\n",
       "    <tr>\n",
       "      <th>2</th>\n",
       "      <td>2</td>\n",
       "      <td>Giresunspor - Antalyaspor</td>\n",
       "      <td>[1.79, 3.35, 2.91]</td>\n",
       "      <td>giresunspor-antalyaspor</td>\n",
       "    </tr>\n",
       "    <tr>\n",
       "      <th>3</th>\n",
       "      <td>3</td>\n",
       "      <td>İstanbulspor - Ümraniyespor</td>\n",
       "      <td>[1.19, 4.65, 6.70]</td>\n",
       "      <td>i̇stanbulspor-umraniyespor</td>\n",
       "    </tr>\n",
       "  </tbody>\n",
       "</table>\n",
       "</div>"
      ],
      "text/plain": [
       "   index                        Teams                 1x2  \\\n",
       "0      0     Ankaragücü - Adana Demir  [2.08, 3.54, 2.28]   \n",
       "1      1         Beşiktaş - Konyaspor  [1.17, 5.14, 6.79]   \n",
       "2      2    Giresunspor - Antalyaspor  [1.79, 3.35, 2.91]   \n",
       "3      3  İstanbulspor - Ümraniyespor  [1.19, 4.65, 6.70]   \n",
       "\n",
       "             teams_normalized  \n",
       "0       ankaragucu-adanademir  \n",
       "1          besiktas-konyaspor  \n",
       "2     giresunspor-antalyaspor  \n",
       "3  i̇stanbulspor-umraniyespor  "
      ]
     },
     "execution_count": 25,
     "metadata": {},
     "output_type": "execute_result"
    }
   ],
   "source": [
    "df_bet10_sorted"
   ]
  },
  {
   "cell_type": "code",
   "execution_count": 26,
   "id": "3422ee8d",
   "metadata": {},
   "outputs": [
    {
     "data": {
      "text/html": [
       "<div>\n",
       "<style scoped>\n",
       "    .dataframe tbody tr th:only-of-type {\n",
       "        vertical-align: middle;\n",
       "    }\n",
       "\n",
       "    .dataframe tbody tr th {\n",
       "        vertical-align: top;\n",
       "    }\n",
       "\n",
       "    .dataframe thead th {\n",
       "        text-align: right;\n",
       "    }\n",
       "</style>\n",
       "<table border=\"1\" class=\"dataframe\">\n",
       "  <thead>\n",
       "    <tr style=\"text-align: right;\">\n",
       "      <th></th>\n",
       "      <th>index</th>\n",
       "      <th>Teams</th>\n",
       "      <th>1x2</th>\n",
       "      <th>teams_normalized</th>\n",
       "    </tr>\n",
       "  </thead>\n",
       "  <tbody>\n",
       "    <tr>\n",
       "      <th>0</th>\n",
       "      <td>0</td>\n",
       "      <td>MKE Ankaragucu-Adana Demirspor</td>\n",
       "      <td>[1.375, 3, 1.4]</td>\n",
       "      <td>ankaragucu-adanademirspor</td>\n",
       "    </tr>\n",
       "    <tr>\n",
       "      <th>1</th>\n",
       "      <td>1</td>\n",
       "      <td>Besiktas JK-Konyaspor</td>\n",
       "      <td>[0.25, 5, 7.5]</td>\n",
       "      <td>besiktas-konyaspor</td>\n",
       "    </tr>\n",
       "    <tr>\n",
       "      <th>2</th>\n",
       "      <td>2</td>\n",
       "      <td>Giresunspor-Antalyaspor</td>\n",
       "      <td>[1, 2.75, 2.2]</td>\n",
       "      <td>giresunspor-antalyaspor</td>\n",
       "    </tr>\n",
       "    <tr>\n",
       "      <th>3</th>\n",
       "      <td>3</td>\n",
       "      <td>Istanbulspor-Umraniyespor</td>\n",
       "      <td>[0.3, 4.5, 7]</td>\n",
       "      <td>istanbulspor-umraniyespor</td>\n",
       "    </tr>\n",
       "  </tbody>\n",
       "</table>\n",
       "</div>"
      ],
      "text/plain": [
       "   index                           Teams              1x2  \\\n",
       "0      0  MKE Ankaragucu-Adana Demirspor  [1.375, 3, 1.4]   \n",
       "1      1           Besiktas JK-Konyaspor   [0.25, 5, 7.5]   \n",
       "2      2         Giresunspor-Antalyaspor   [1, 2.75, 2.2]   \n",
       "3      3       Istanbulspor-Umraniyespor    [0.3, 4.5, 7]   \n",
       "\n",
       "            teams_normalized  \n",
       "0  ankaragucu-adanademirspor  \n",
       "1         besiktas-konyaspor  \n",
       "2    giresunspor-antalyaspor  \n",
       "3  istanbulspor-umraniyespor  "
      ]
     },
     "execution_count": 26,
     "metadata": {},
     "output_type": "execute_result"
    }
   ],
   "source": [
    "df_sport888_sorted"
   ]
  },
  {
   "cell_type": "code",
   "execution_count": 27,
   "id": "9241df2f",
   "metadata": {},
   "outputs": [
    {
     "data": {
      "text/html": [
       "<div>\n",
       "<style scoped>\n",
       "    .dataframe tbody tr th:only-of-type {\n",
       "        vertical-align: middle;\n",
       "    }\n",
       "\n",
       "    .dataframe tbody tr th {\n",
       "        vertical-align: top;\n",
       "    }\n",
       "\n",
       "    .dataframe thead th {\n",
       "        text-align: right;\n",
       "    }\n",
       "</style>\n",
       "<table border=\"1\" class=\"dataframe\">\n",
       "  <thead>\n",
       "    <tr style=\"text-align: right;\">\n",
       "      <th></th>\n",
       "      <th>index</th>\n",
       "      <th>Teams</th>\n",
       "      <th>1x2</th>\n",
       "      <th>teams_normalized</th>\n",
       "    </tr>\n",
       "  </thead>\n",
       "  <tbody>\n",
       "    <tr>\n",
       "      <th>0</th>\n",
       "      <td>0</td>\n",
       "      <td>Ankaragücü-Adana Demirspor</td>\n",
       "      <td>[2.18, 3.71, 2.39]</td>\n",
       "      <td>ankaragucu-adanademirspor</td>\n",
       "    </tr>\n",
       "    <tr>\n",
       "      <th>1</th>\n",
       "      <td>1</td>\n",
       "      <td>Beşiktaş A.Ş.-Konyaspor</td>\n",
       "      <td>[1.17, 5.14, 6.79]</td>\n",
       "      <td>besiktas-konyaspor</td>\n",
       "    </tr>\n",
       "    <tr>\n",
       "      <th>2</th>\n",
       "      <td>2</td>\n",
       "      <td>Giresunspor-Antalyaspor A.Ş.</td>\n",
       "      <td>[1.86, 3.46, 2.93]</td>\n",
       "      <td>giresunspor-antalyaspor</td>\n",
       "    </tr>\n",
       "    <tr>\n",
       "      <th>3</th>\n",
       "      <td>3</td>\n",
       "      <td>Istanbulspor-Ümraniyespor</td>\n",
       "      <td>[1.22, 4.78, 6.90]</td>\n",
       "      <td>istanbulspor-umraniyespor</td>\n",
       "    </tr>\n",
       "  </tbody>\n",
       "</table>\n",
       "</div>"
      ],
      "text/plain": [
       "   index                         Teams                 1x2  \\\n",
       "0      0    Ankaragücü-Adana Demirspor  [2.18, 3.71, 2.39]   \n",
       "1      1       Beşiktaş A.Ş.-Konyaspor  [1.17, 5.14, 6.79]   \n",
       "2      2  Giresunspor-Antalyaspor A.Ş.  [1.86, 3.46, 2.93]   \n",
       "3      3     Istanbulspor-Ümraniyespor  [1.22, 4.78, 6.90]   \n",
       "\n",
       "            teams_normalized  \n",
       "0  ankaragucu-adanademirspor  \n",
       "1         besiktas-konyaspor  \n",
       "2    giresunspor-antalyaspor  \n",
       "3  istanbulspor-umraniyespor  "
      ]
     },
     "execution_count": 27,
     "metadata": {},
     "output_type": "execute_result"
    }
   ],
   "source": [
    "df_misli_sorted"
   ]
  },
  {
   "cell_type": "code",
   "execution_count": 28,
   "id": "b86f5744",
   "metadata": {},
   "outputs": [
    {
     "data": {
      "text/html": [
       "<div>\n",
       "<style scoped>\n",
       "    .dataframe tbody tr th:only-of-type {\n",
       "        vertical-align: middle;\n",
       "    }\n",
       "\n",
       "    .dataframe tbody tr th {\n",
       "        vertical-align: top;\n",
       "    }\n",
       "\n",
       "    .dataframe thead th {\n",
       "        text-align: right;\n",
       "    }\n",
       "</style>\n",
       "<table border=\"1\" class=\"dataframe\">\n",
       "  <thead>\n",
       "    <tr style=\"text-align: right;\">\n",
       "      <th></th>\n",
       "      <th>index</th>\n",
       "      <th>Teams</th>\n",
       "      <th>1x2</th>\n",
       "      <th>teams_normalized</th>\n",
       "    </tr>\n",
       "  </thead>\n",
       "  <tbody>\n",
       "    <tr>\n",
       "      <th>0</th>\n",
       "      <td>0</td>\n",
       "      <td>Ankaragucu-Adana Demirspor</td>\n",
       "      <td>[2.37, 4.00, 2.40]</td>\n",
       "      <td>ankaragucu-adanademirspor</td>\n",
       "    </tr>\n",
       "    <tr>\n",
       "      <th>1</th>\n",
       "      <td>1</td>\n",
       "      <td>Besiktas-Konyaspor</td>\n",
       "      <td>[1.28, 5.75, 7.50]</td>\n",
       "      <td>besiktas-konyaspor</td>\n",
       "    </tr>\n",
       "    <tr>\n",
       "      <th>2</th>\n",
       "      <td>2</td>\n",
       "      <td>Giresunspor-Antalyaspor</td>\n",
       "      <td>[2.10, 3.60, 3.00]</td>\n",
       "      <td>giresunspor-antalyaspor</td>\n",
       "    </tr>\n",
       "    <tr>\n",
       "      <th>3</th>\n",
       "      <td>3</td>\n",
       "      <td>Istanbulspor-Umraniyespor</td>\n",
       "      <td>[1.33, 5.00, 7.00]</td>\n",
       "      <td>istanbulspor-umraniyespor</td>\n",
       "    </tr>\n",
       "  </tbody>\n",
       "</table>\n",
       "</div>"
      ],
      "text/plain": [
       "   index                       Teams                 1x2  \\\n",
       "0      0  Ankaragucu-Adana Demirspor  [2.37, 4.00, 2.40]   \n",
       "1      1          Besiktas-Konyaspor  [1.28, 5.75, 7.50]   \n",
       "2      2     Giresunspor-Antalyaspor  [2.10, 3.60, 3.00]   \n",
       "3      3   Istanbulspor-Umraniyespor  [1.33, 5.00, 7.00]   \n",
       "\n",
       "            teams_normalized  \n",
       "0  ankaragucu-adanademirspor  \n",
       "1         besiktas-konyaspor  \n",
       "2    giresunspor-antalyaspor  \n",
       "3  istanbulspor-umraniyespor  "
      ]
     },
     "execution_count": 28,
     "metadata": {},
     "output_type": "execute_result"
    }
   ],
   "source": [
    "df_betway_sorted"
   ]
  },
  {
   "cell_type": "code",
   "execution_count": 29,
   "id": "fe6008fd",
   "metadata": {},
   "outputs": [
    {
     "data": {
      "text/html": [
       "<div>\n",
       "<style scoped>\n",
       "    .dataframe tbody tr th:only-of-type {\n",
       "        vertical-align: middle;\n",
       "    }\n",
       "\n",
       "    .dataframe tbody tr th {\n",
       "        vertical-align: top;\n",
       "    }\n",
       "\n",
       "    .dataframe thead th {\n",
       "        text-align: right;\n",
       "    }\n",
       "</style>\n",
       "<table border=\"1\" class=\"dataframe\">\n",
       "  <thead>\n",
       "    <tr style=\"text-align: right;\">\n",
       "      <th></th>\n",
       "      <th>index</th>\n",
       "      <th>Teams</th>\n",
       "      <th>1x2</th>\n",
       "      <th>teams_normalized</th>\n",
       "    </tr>\n",
       "  </thead>\n",
       "  <tbody>\n",
       "    <tr>\n",
       "      <th>0</th>\n",
       "      <td>0</td>\n",
       "      <td>Ankaragücü-Adana Demirspor</td>\n",
       "      <td>[2.18, 3.71, 2.39]</td>\n",
       "      <td>ankaragucu-adanademirspor</td>\n",
       "    </tr>\n",
       "    <tr>\n",
       "      <th>1</th>\n",
       "      <td>1</td>\n",
       "      <td>Beşiktaş A.Ş.-Konyaspor</td>\n",
       "      <td>[1.17, 5.14, 6.79]</td>\n",
       "      <td>besiktas-konyaspor</td>\n",
       "    </tr>\n",
       "    <tr>\n",
       "      <th>2</th>\n",
       "      <td>2</td>\n",
       "      <td>Giresunspor-Antalyaspor A.Ş.</td>\n",
       "      <td>[1.86, 3.46, 2.93]</td>\n",
       "      <td>giresunspor-antalyaspor</td>\n",
       "    </tr>\n",
       "    <tr>\n",
       "      <th>3</th>\n",
       "      <td>3</td>\n",
       "      <td>Istanbulspor-Ümraniyespor</td>\n",
       "      <td>[1.22, 4.78, 6.90]</td>\n",
       "      <td>istanbulspor-umraniyespor</td>\n",
       "    </tr>\n",
       "  </tbody>\n",
       "</table>\n",
       "</div>"
      ],
      "text/plain": [
       "   index                         Teams                 1x2  \\\n",
       "0      0    Ankaragücü-Adana Demirspor  [2.18, 3.71, 2.39]   \n",
       "1      1       Beşiktaş A.Ş.-Konyaspor  [1.17, 5.14, 6.79]   \n",
       "2      2  Giresunspor-Antalyaspor A.Ş.  [1.86, 3.46, 2.93]   \n",
       "3      3     Istanbulspor-Ümraniyespor  [1.22, 4.78, 6.90]   \n",
       "\n",
       "            teams_normalized  \n",
       "0  ankaragucu-adanademirspor  \n",
       "1         besiktas-konyaspor  \n",
       "2    giresunspor-antalyaspor  \n",
       "3  istanbulspor-umraniyespor  "
      ]
     },
     "execution_count": 29,
     "metadata": {},
     "output_type": "execute_result"
    }
   ],
   "source": [
    "df_unibet_sorted"
   ]
  },
  {
   "cell_type": "code",
   "execution_count": 30,
   "id": "d7082373",
   "metadata": {},
   "outputs": [
    {
     "data": {
      "text/html": [
       "<div>\n",
       "<style scoped>\n",
       "    .dataframe tbody tr th:only-of-type {\n",
       "        vertical-align: middle;\n",
       "    }\n",
       "\n",
       "    .dataframe tbody tr th {\n",
       "        vertical-align: top;\n",
       "    }\n",
       "\n",
       "    .dataframe thead th {\n",
       "        text-align: right;\n",
       "    }\n",
       "</style>\n",
       "<table border=\"1\" class=\"dataframe\">\n",
       "  <thead>\n",
       "    <tr style=\"text-align: right;\">\n",
       "      <th></th>\n",
       "      <th>index</th>\n",
       "      <th>Teams</th>\n",
       "      <th>1x2</th>\n",
       "      <th>teams_normalized</th>\n",
       "    </tr>\n",
       "  </thead>\n",
       "  <tbody>\n",
       "    <tr>\n",
       "      <th>0</th>\n",
       "      <td>0</td>\n",
       "      <td>Ankaragucu-Adana Demirspor</td>\n",
       "      <td>[2.45, 4.15, 2.45]</td>\n",
       "      <td>ankaragucu-adanademirspor</td>\n",
       "    </tr>\n",
       "    <tr>\n",
       "      <th>1</th>\n",
       "      <td>1</td>\n",
       "      <td>Besiktas-Konyaspor</td>\n",
       "      <td>[1.30, 5.95, 8.30]</td>\n",
       "      <td>besiktas-konyaspor</td>\n",
       "    </tr>\n",
       "    <tr>\n",
       "      <th>2</th>\n",
       "      <td>2</td>\n",
       "      <td>Giresunspor-Antalyaspor</td>\n",
       "      <td>[2.09, 3.78, 3.18]</td>\n",
       "      <td>giresunspor-antalyaspor</td>\n",
       "    </tr>\n",
       "    <tr>\n",
       "      <th>3</th>\n",
       "      <td>3</td>\n",
       "      <td>Istanbulspor-Umraniyespor</td>\n",
       "      <td>[1.34, 5.35, 8.00]</td>\n",
       "      <td>istanbulspor-umraniyespor</td>\n",
       "    </tr>\n",
       "  </tbody>\n",
       "</table>\n",
       "</div>"
      ],
      "text/plain": [
       "   index                       Teams                 1x2  \\\n",
       "0      0  Ankaragucu-Adana Demirspor  [2.45, 4.15, 2.45]   \n",
       "1      1          Besiktas-Konyaspor  [1.30, 5.95, 8.30]   \n",
       "2      2     Giresunspor-Antalyaspor  [2.09, 3.78, 3.18]   \n",
       "3      3   Istanbulspor-Umraniyespor  [1.34, 5.35, 8.00]   \n",
       "\n",
       "            teams_normalized  \n",
       "0  ankaragucu-adanademirspor  \n",
       "1         besiktas-konyaspor  \n",
       "2    giresunspor-antalyaspor  \n",
       "3  istanbulspor-umraniyespor  "
      ]
     },
     "execution_count": 30,
     "metadata": {},
     "output_type": "execute_result"
    }
   ],
   "source": [
    "df_marathon_sorted"
   ]
  },
  {
   "cell_type": "code",
   "execution_count": 31,
   "id": "127c53b4",
   "metadata": {},
   "outputs": [
    {
     "data": {
      "text/html": [
       "<div>\n",
       "<style scoped>\n",
       "    .dataframe tbody tr th:only-of-type {\n",
       "        vertical-align: middle;\n",
       "    }\n",
       "\n",
       "    .dataframe tbody tr th {\n",
       "        vertical-align: top;\n",
       "    }\n",
       "\n",
       "    .dataframe thead th {\n",
       "        text-align: right;\n",
       "    }\n",
       "</style>\n",
       "<table border=\"1\" class=\"dataframe\">\n",
       "  <thead>\n",
       "    <tr style=\"text-align: right;\">\n",
       "      <th></th>\n",
       "      <th>index</th>\n",
       "      <th>Teams</th>\n",
       "      <th>1x2</th>\n",
       "      <th>teams_normalized</th>\n",
       "    </tr>\n",
       "  </thead>\n",
       "  <tbody>\n",
       "    <tr>\n",
       "      <th>0</th>\n",
       "      <td>0</td>\n",
       "      <td>Ankaragücü-Adana Demirspor</td>\n",
       "      <td>[2.08, 3.54, 2.28]</td>\n",
       "      <td>ankaragucu-adanademirspor</td>\n",
       "    </tr>\n",
       "    <tr>\n",
       "      <th>1</th>\n",
       "      <td>1</td>\n",
       "      <td>Beşiktaş-Konyaspor</td>\n",
       "      <td>[1.17, 5.14, 6.79]</td>\n",
       "      <td>besiktas-konyaspor</td>\n",
       "    </tr>\n",
       "    <tr>\n",
       "      <th>2</th>\n",
       "      <td>2</td>\n",
       "      <td>Giresunspor-Antalyaspor</td>\n",
       "      <td>[1.79, 3.35, 2.91]</td>\n",
       "      <td>giresunspor-antalyaspor</td>\n",
       "    </tr>\n",
       "    <tr>\n",
       "      <th>3</th>\n",
       "      <td>3</td>\n",
       "      <td>İstanbulspor-Ümraniyespor</td>\n",
       "      <td>[1.19, 4.65, 6.70]</td>\n",
       "      <td>i̇stanbulspor-umraniyespor</td>\n",
       "    </tr>\n",
       "  </tbody>\n",
       "</table>\n",
       "</div>"
      ],
      "text/plain": [
       "   index                       Teams                 1x2  \\\n",
       "0      0  Ankaragücü-Adana Demirspor  [2.08, 3.54, 2.28]   \n",
       "1      1          Beşiktaş-Konyaspor  [1.17, 5.14, 6.79]   \n",
       "2      2     Giresunspor-Antalyaspor  [1.79, 3.35, 2.91]   \n",
       "3      3   İstanbulspor-Ümraniyespor  [1.19, 4.65, 6.70]   \n",
       "\n",
       "             teams_normalized  \n",
       "0   ankaragucu-adanademirspor  \n",
       "1          besiktas-konyaspor  \n",
       "2     giresunspor-antalyaspor  \n",
       "3  i̇stanbulspor-umraniyespor  "
      ]
     },
     "execution_count": 31,
     "metadata": {},
     "output_type": "execute_result"
    }
   ],
   "source": [
    "df_tuttur_sorted"
   ]
  },
  {
   "cell_type": "code",
   "execution_count": 32,
   "id": "7261e6ef",
   "metadata": {},
   "outputs": [],
   "source": [
    "import numpy as np"
   ]
  },
  {
   "cell_type": "code",
   "execution_count": 35,
   "id": "6f5835c0",
   "metadata": {},
   "outputs": [],
   "source": [
    "from AnomalyDetector import AnomalyDetector"
   ]
  },
  {
   "cell_type": "code",
   "execution_count": 36,
   "id": "1830b607",
   "metadata": {},
   "outputs": [],
   "source": [
    "import numpy as np\n",
    "\n",
    "def find_max_elements_and_anomalies(*matrices, matrix_names, threshold=1.4):\n",
    "    if len(matrices) != len(matrix_names):\n",
    "        raise ValueError(\"Number of matrices and matrix names must be equal\")\n",
    "\n",
    "    rows = len(matrices[0])\n",
    "    cols = len(matrices[0][0])\n",
    "\n",
    "    # Check all matrices have the same dimensions\n",
    "    for matrix in matrices:\n",
    "        if len(matrix) != rows or len(matrix[0]) != cols:\n",
    "            raise ValueError(\"All matrices must have the same dimensions\")\n",
    "\n",
    "    max_matrix = [[None] * cols for _ in range(rows)]\n",
    "    anomaly_matrix = [[None] * cols for _ in range(rows)]\n",
    "\n",
    "    for i in range(rows):\n",
    "        for j in range(cols):\n",
    "            max_element = float('-inf')\n",
    "            max_name = None\n",
    "            anomalies = []\n",
    "            elements = []\n",
    "            for matrix, name in zip(matrices, matrix_names):\n",
    "                element = float(matrix[i][j])\n",
    "                elements.append(element)\n",
    "                if element > max_element:\n",
    "                    max_element = element\n",
    "                    max_name = name\n",
    "            anomaly_detector = AnomalyDetector(threshold)\n",
    "            anomaly_detector.fit(np.array(elements))\n",
    "            if anomaly_detector.detect_anomalies(np.array(elements)).any():\n",
    "                anomalies = [name for idx, name in enumerate(matrix_names) if anomaly_detector.detect_anomalies(np.array(elements))[idx]]\n",
    "\n",
    "            max_matrix[i][j] = max_name\n",
    "            anomaly_matrix[i][j] = anomalies if anomalies else None\n",
    "\n",
    "    return max_matrix, anomaly_matrix\n"
   ]
  },
  {
   "cell_type": "code",
   "execution_count": 38,
   "id": "07bfe7dc",
   "metadata": {},
   "outputs": [],
   "source": [
    "\n",
    "result_misli = df_misli_sorted['1x2'].tolist()\n",
    "result_nesine = df_nesine_sorted['1x2'].tolist()\n",
    "result_sport888 = df_sport888_sorted['1x2'].tolist()\n",
    "result_betway = df_betway_sorted['1x2'].tolist()\n",
    "result_unibet = df_unibet_sorted['1x2'].tolist()\n",
    "result_bet10 = df_bet10_sorted['1x2'].tolist()\n",
    "result_marathon = df_marathon_sorted['1x2'].tolist()\n",
    "result_tuttur = df_tuttur_sorted['1x2'].tolist()\n"
   ]
  },
  {
   "cell_type": "code",
   "execution_count": 39,
   "id": "c5600950",
   "metadata": {},
   "outputs": [
    {
     "name": "stdout",
     "output_type": "stream",
     "text": [
      "[['betway', 'betway', 'betway'], ['betway', 'betway', 'sport888'], ['betway', 'betway', 'betway'], ['betway', 'betway', 'sport888']]\n",
      "[[['sport888'], ['sport888'], ['sport888']], [['sport888'], ['betway'], None], [['sport888'], ['sport888'], ['sport888']], [['sport888'], None, ['Nesine']]]\n"
     ]
    }
   ],
   "source": [
    "\n",
    "max_matrix, anomaly_matrix = find_max_elements_and_anomalies(result_misli, result_nesine, result_sport888,result_betway,result_unibet, matrix_names=[\"Misli\", \"Nesine\", \"sport888\", \"betway\", \"unibet\"], threshold=1.7)\n",
    "print(max_matrix)\n",
    "print(anomaly_matrix)\n"
   ]
  },
  {
   "cell_type": "code",
   "execution_count": 40,
   "id": "5dfb6147",
   "metadata": {},
   "outputs": [
    {
     "data": {
      "text/plain": [
       "[['betway', 'betway', 'betway'],\n",
       " ['betway', 'betway', 'sport888'],\n",
       " ['betway', 'betway', 'betway'],\n",
       " ['betway', 'betway', 'sport888']]"
      ]
     },
     "execution_count": 40,
     "metadata": {},
     "output_type": "execute_result"
    }
   ],
   "source": [
    "max_matrix"
   ]
  },
  {
   "cell_type": "code",
   "execution_count": 41,
   "id": "4260b3de",
   "metadata": {},
   "outputs": [
    {
     "data": {
      "text/plain": [
       "[[['sport888'], ['sport888'], ['sport888']],\n",
       " [['sport888'], ['betway'], None],\n",
       " [['sport888'], ['sport888'], ['sport888']],\n",
       " [['sport888'], None, ['Nesine']]]"
      ]
     },
     "execution_count": 41,
     "metadata": {},
     "output_type": "execute_result"
    }
   ],
   "source": [
    "anomaly_matrix"
   ]
  },
  {
   "cell_type": "code",
   "execution_count": 42,
   "id": "68acd786",
   "metadata": {},
   "outputs": [
    {
     "data": {
      "text/html": [
       "<div>\n",
       "<style scoped>\n",
       "    .dataframe tbody tr th:only-of-type {\n",
       "        vertical-align: middle;\n",
       "    }\n",
       "\n",
       "    .dataframe tbody tr th {\n",
       "        vertical-align: top;\n",
       "    }\n",
       "\n",
       "    .dataframe thead th {\n",
       "        text-align: right;\n",
       "    }\n",
       "</style>\n",
       "<table border=\"1\" class=\"dataframe\">\n",
       "  <thead>\n",
       "    <tr style=\"text-align: right;\">\n",
       "      <th></th>\n",
       "      <th>index</th>\n",
       "      <th>Teams</th>\n",
       "      <th>1x2</th>\n",
       "      <th>teams_normalized</th>\n",
       "    </tr>\n",
       "  </thead>\n",
       "  <tbody>\n",
       "    <tr>\n",
       "      <th>0</th>\n",
       "      <td>0</td>\n",
       "      <td>Ankaragücü-Adana Demirspor</td>\n",
       "      <td>[2.18, 3.71, 2.39]</td>\n",
       "      <td>ankaragucu-adanademirspor</td>\n",
       "    </tr>\n",
       "    <tr>\n",
       "      <th>1</th>\n",
       "      <td>1</td>\n",
       "      <td>Beşiktaş-Konyaspor</td>\n",
       "      <td>[1.17, 5.14, 6.79]</td>\n",
       "      <td>besiktas-konyaspor</td>\n",
       "    </tr>\n",
       "    <tr>\n",
       "      <th>2</th>\n",
       "      <td>2</td>\n",
       "      <td>Giresunspor-Antalyaspor</td>\n",
       "      <td>[1.86, 3.46, 2.93]</td>\n",
       "      <td>giresunspor-antalyaspor</td>\n",
       "    </tr>\n",
       "    <tr>\n",
       "      <th>3</th>\n",
       "      <td>3</td>\n",
       "      <td>İstanbulspor-Ümraniyespor</td>\n",
       "      <td>[1.22, 4.78, 6.90]</td>\n",
       "      <td>i̇stanbulspor-umraniyespor</td>\n",
       "    </tr>\n",
       "  </tbody>\n",
       "</table>\n",
       "</div>"
      ],
      "text/plain": [
       "   index                       Teams                 1x2  \\\n",
       "0      0  Ankaragücü-Adana Demirspor  [2.18, 3.71, 2.39]   \n",
       "1      1          Beşiktaş-Konyaspor  [1.17, 5.14, 6.79]   \n",
       "2      2     Giresunspor-Antalyaspor  [1.86, 3.46, 2.93]   \n",
       "3      3   İstanbulspor-Ümraniyespor  [1.22, 4.78, 6.90]   \n",
       "\n",
       "             teams_normalized  \n",
       "0   ankaragucu-adanademirspor  \n",
       "1          besiktas-konyaspor  \n",
       "2     giresunspor-antalyaspor  \n",
       "3  i̇stanbulspor-umraniyespor  "
      ]
     },
     "execution_count": 42,
     "metadata": {},
     "output_type": "execute_result"
    }
   ],
   "source": [
    "df_misli_sorted"
   ]
  },
  {
   "cell_type": "code",
   "execution_count": 43,
   "id": "cfead5b9",
   "metadata": {},
   "outputs": [],
   "source": [
    "dict_misli = {'Teams': df_misli_sorted['Teams'], '1x2': df_misli_sorted['1x2'], 'teams_normalized': df_misli_sorted['teams_normalized']}\n",
    "dict_nesine = {'Teams': df_nesine_sorted['Teams'], '1x2': df_nesine_sorted['1x2'], 'teams_normalized': df_nesine_sorted['teams_normalized']}\n",
    "dict_sport888 = {'Teams': df_sport888_sorted['Teams'], '1x2': df_sport888_sorted['1x2'], 'teams_normalized': df_sport888_sorted['teams_normalized']}\n",
    "dict_betway = {'Teams': df_betway_sorted['Teams'], '1x2': df_betway_sorted['1x2'], 'teams_normalized': df_betway_sorted['teams_normalized']}\n",
    "dict_unibet = {'Teams': df_unibet_sorted['Teams'], '1x2': df_unibet_sorted['1x2'], 'teams_normalized': df_unibet_sorted['teams_normalized']}"
   ]
  },
  {
   "cell_type": "code",
   "execution_count": 44,
   "id": "fe8f6cc0",
   "metadata": {},
   "outputs": [],
   "source": [
    "# Convert the lists to DataFrames\n",
    "df_mislij =  pd.DataFrame.from_dict(df_misli_sorted)\n",
    "df_nesinej =  pd.DataFrame.from_dict(df_nesine_sorted)\n",
    "df_sport888j =  pd.DataFrame.from_dict(df_sport888_sorted)\n",
    "df_betwayj =  pd.DataFrame.from_dict(df_betway_sorted)\n",
    "df_unibetj =  pd.DataFrame.from_dict(df_unibet_sorted)\n"
   ]
  },
  {
   "cell_type": "code",
   "execution_count": 46,
   "id": "dd45186b",
   "metadata": {},
   "outputs": [
    {
     "data": {
      "text/html": [
       "<div>\n",
       "<style scoped>\n",
       "    .dataframe tbody tr th:only-of-type {\n",
       "        vertical-align: middle;\n",
       "    }\n",
       "\n",
       "    .dataframe tbody tr th {\n",
       "        vertical-align: top;\n",
       "    }\n",
       "\n",
       "    .dataframe thead th {\n",
       "        text-align: right;\n",
       "    }\n",
       "</style>\n",
       "<table border=\"1\" class=\"dataframe\">\n",
       "  <thead>\n",
       "    <tr style=\"text-align: right;\">\n",
       "      <th></th>\n",
       "      <th>index</th>\n",
       "      <th>Teams</th>\n",
       "      <th>1x2</th>\n",
       "      <th>teams_normalized</th>\n",
       "    </tr>\n",
       "  </thead>\n",
       "  <tbody>\n",
       "    <tr>\n",
       "      <th>0</th>\n",
       "      <td>0</td>\n",
       "      <td>Ankaragücü-Adana Demirspor</td>\n",
       "      <td>[2.18, 3.71, 2.39]</td>\n",
       "      <td>ankaragucu-adanademirspor</td>\n",
       "    </tr>\n",
       "    <tr>\n",
       "      <th>1</th>\n",
       "      <td>1</td>\n",
       "      <td>Beşiktaş-Konyaspor</td>\n",
       "      <td>[1.17, 5.14, 6.79]</td>\n",
       "      <td>besiktas-konyaspor</td>\n",
       "    </tr>\n",
       "    <tr>\n",
       "      <th>2</th>\n",
       "      <td>2</td>\n",
       "      <td>Giresunspor-Antalyaspor</td>\n",
       "      <td>[1.86, 3.46, 2.93]</td>\n",
       "      <td>giresunspor-antalyaspor</td>\n",
       "    </tr>\n",
       "    <tr>\n",
       "      <th>3</th>\n",
       "      <td>3</td>\n",
       "      <td>İstanbulspor-Ümraniyespor</td>\n",
       "      <td>[1.22, 4.78, 6.90]</td>\n",
       "      <td>i̇stanbulspor-umraniyespor</td>\n",
       "    </tr>\n",
       "  </tbody>\n",
       "</table>\n",
       "</div>"
      ],
      "text/plain": [
       "   index                       Teams                 1x2  \\\n",
       "0      0  Ankaragücü-Adana Demirspor  [2.18, 3.71, 2.39]   \n",
       "1      1          Beşiktaş-Konyaspor  [1.17, 5.14, 6.79]   \n",
       "2      2     Giresunspor-Antalyaspor  [1.86, 3.46, 2.93]   \n",
       "3      3   İstanbulspor-Ümraniyespor  [1.22, 4.78, 6.90]   \n",
       "\n",
       "             teams_normalized  \n",
       "0   ankaragucu-adanademirspor  \n",
       "1          besiktas-konyaspor  \n",
       "2     giresunspor-antalyaspor  \n",
       "3  i̇stanbulspor-umraniyespor  "
      ]
     },
     "execution_count": 46,
     "metadata": {},
     "output_type": "execute_result"
    }
   ],
   "source": [
    "df_mislij"
   ]
  },
  {
   "cell_type": "code",
   "execution_count": 45,
   "id": "f298471e",
   "metadata": {},
   "outputs": [],
   "source": [
    "from myDB import myDB"
   ]
  },
  {
   "cell_type": "code",
   "execution_count": null,
   "id": "5f9e1816",
   "metadata": {},
   "outputs": [],
   "source": [
    "'''\n",
    "db = myDB()\n",
    "db.insert_to_mongo_from_directory('mydatabase', '.')\n",
    "\n",
    "db = myDB()\n",
    "db.insert_to_mongo_from_directory('mydatabase', '.', files=['misli', 'nesine', 'tuttur'])'''\n"
   ]
  },
  {
   "cell_type": "code",
   "execution_count": null,
   "id": "648a4355",
   "metadata": {},
   "outputs": [],
   "source": [
    "db = myDB()\n"
   ]
  },
  {
   "cell_type": "code",
   "execution_count": null,
   "id": "e72abd3a",
   "metadata": {},
   "outputs": [],
   "source": [
    "db.insert_to_mongo_from_directory('BahisSiteleriCur', '.', files=['misli', 'nesine', '888sport', 'betway', 'unibet'])"
   ]
  },
  {
   "cell_type": "code",
   "execution_count": null,
   "id": "60aa4d75",
   "metadata": {},
   "outputs": [],
   "source": []
  },
  {
   "cell_type": "code",
   "execution_count": null,
   "id": "8308b32d",
   "metadata": {},
   "outputs": [],
   "source": []
  }
 ],
 "metadata": {
  "kernelspec": {
   "display_name": "Python 3 (ipykernel)",
   "language": "python",
   "name": "python3"
  },
  "language_info": {
   "codemirror_mode": {
    "name": "ipython",
    "version": 3
   },
   "file_extension": ".py",
   "mimetype": "text/x-python",
   "name": "python",
   "nbconvert_exporter": "python",
   "pygments_lexer": "ipython3",
   "version": "3.9.12"
  }
 },
 "nbformat": 4,
 "nbformat_minor": 5
}
